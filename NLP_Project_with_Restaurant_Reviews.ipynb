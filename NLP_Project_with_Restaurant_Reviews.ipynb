{
  "nbformat": 4,
  "nbformat_minor": 5,
  "metadata": {
    "kernelspec": {
      "display_name": "Python 3 (ipykernel)",
      "language": "python",
      "name": "python3"
    },
    "language_info": {
      "codemirror_mode": {
        "name": "ipython",
        "version": 3
      },
      "file_extension": ".py",
      "mimetype": "text/x-python",
      "name": "python",
      "nbconvert_exporter": "python",
      "pygments_lexer": "ipython3",
      "version": "3.9.7"
    },
    "colab": {
      "name": "NLP Project with Restaurant Reviews.ipynb",
      "provenance": [],
      "collapsed_sections": [],
      "include_colab_link": true
    }
  },
  "cells": [
    {
      "cell_type": "markdown",
      "metadata": {
        "id": "view-in-github",
        "colab_type": "text"
      },
      "source": [
        "<a href=\"https://colab.research.google.com/github/berkaycamur/data_science_projects/blob/main/NLP_Project_with_Restaurant_Reviews.ipynb\" target=\"_parent\"><img src=\"https://colab.research.google.com/assets/colab-badge.svg\" alt=\"Open In Colab\"/></a>"
      ]
    },
    {
      "cell_type": "code",
      "metadata": {
        "colab": {
          "base_uri": "https://localhost:8080/"
        },
        "id": "a63e1764-14e3-43a6-ab9b-c89ec67e0f7f",
        "outputId": "29793788-a8f7-4658-e1a3-208cb791bfd3"
      },
      "source": [
        "import pandas as pd \n",
        "import numpy as np \n",
        "import matplotlib.pyplot as plt \n",
        "!pip install contractions\n",
        "import contractions\n",
        "from tensorflow import keras\n",
        "import re"
      ],
      "id": "a63e1764-14e3-43a6-ab9b-c89ec67e0f7f",
      "execution_count": 419,
      "outputs": [
        {
          "output_type": "stream",
          "name": "stdout",
          "text": [
            "Requirement already satisfied: contractions in /usr/local/lib/python3.7/dist-packages (0.0.58)\n",
            "Requirement already satisfied: textsearch>=0.0.21 in /usr/local/lib/python3.7/dist-packages (from contractions) (0.0.21)\n",
            "Requirement already satisfied: anyascii in /usr/local/lib/python3.7/dist-packages (from textsearch>=0.0.21->contractions) (0.3.0)\n",
            "Requirement already satisfied: pyahocorasick in /usr/local/lib/python3.7/dist-packages (from textsearch>=0.0.21->contractions) (1.4.2)\n"
          ]
        }
      ]
    },
    {
      "cell_type": "code",
      "metadata": {
        "scrolled": true,
        "id": "71c51f0a-ca0f-486f-941b-c1a90adda3f2"
      },
      "source": [
        "df_2 = pd.read_csv(\"Restaurant_Reviews.tsv.txt\", sep = \"\\t\" )\n",
        "df = df_2.copy()"
      ],
      "id": "71c51f0a-ca0f-486f-941b-c1a90adda3f2",
      "execution_count": 420,
      "outputs": []
    },
    {
      "cell_type": "code",
      "metadata": {
        "colab": {
          "base_uri": "https://localhost:8080/",
          "height": 206
        },
        "id": "e05d1acc-6734-4d2b-9a2e-2a073573c7b6",
        "outputId": "6428ba4c-3eec-4956-d00f-12ec0601351f"
      },
      "source": [
        "df.head()"
      ],
      "id": "e05d1acc-6734-4d2b-9a2e-2a073573c7b6",
      "execution_count": 421,
      "outputs": [
        {
          "output_type": "execute_result",
          "data": {
            "text/html": [
              "<div>\n",
              "<style scoped>\n",
              "    .dataframe tbody tr th:only-of-type {\n",
              "        vertical-align: middle;\n",
              "    }\n",
              "\n",
              "    .dataframe tbody tr th {\n",
              "        vertical-align: top;\n",
              "    }\n",
              "\n",
              "    .dataframe thead th {\n",
              "        text-align: right;\n",
              "    }\n",
              "</style>\n",
              "<table border=\"1\" class=\"dataframe\">\n",
              "  <thead>\n",
              "    <tr style=\"text-align: right;\">\n",
              "      <th></th>\n",
              "      <th>Review</th>\n",
              "      <th>Liked</th>\n",
              "    </tr>\n",
              "  </thead>\n",
              "  <tbody>\n",
              "    <tr>\n",
              "      <th>0</th>\n",
              "      <td>Wow... Loved this place.</td>\n",
              "      <td>1</td>\n",
              "    </tr>\n",
              "    <tr>\n",
              "      <th>1</th>\n",
              "      <td>Crust is not good.</td>\n",
              "      <td>0</td>\n",
              "    </tr>\n",
              "    <tr>\n",
              "      <th>2</th>\n",
              "      <td>Not tasty and the texture was just nasty.</td>\n",
              "      <td>0</td>\n",
              "    </tr>\n",
              "    <tr>\n",
              "      <th>3</th>\n",
              "      <td>Stopped by during the late May bank holiday of...</td>\n",
              "      <td>1</td>\n",
              "    </tr>\n",
              "    <tr>\n",
              "      <th>4</th>\n",
              "      <td>The selection on the menu was great and so wer...</td>\n",
              "      <td>1</td>\n",
              "    </tr>\n",
              "  </tbody>\n",
              "</table>\n",
              "</div>"
            ],
            "text/plain": [
              "                                              Review  Liked\n",
              "0                           Wow... Loved this place.      1\n",
              "1                                 Crust is not good.      0\n",
              "2          Not tasty and the texture was just nasty.      0\n",
              "3  Stopped by during the late May bank holiday of...      1\n",
              "4  The selection on the menu was great and so wer...      1"
            ]
          },
          "metadata": {},
          "execution_count": 421
        }
      ]
    },
    {
      "cell_type": "code",
      "metadata": {
        "colab": {
          "base_uri": "https://localhost:8080/"
        },
        "id": "b68627e7",
        "outputId": "3dfb9be9-b2d9-4e69-9ca4-d0e6e9146dfe"
      },
      "source": [
        "import nltk\n",
        "nltk.download('punkt')\n",
        "from nltk.tokenize import word_tokenize\n",
        "\n",
        "df['Review'] = df['Review'].apply(lambda x : contractions.fix(x))#fixed contractions\n",
        "df['Review'] = df['Review'].apply(lambda x : x.lower()) #make all letters lowercase\n",
        "df['Review'] = df['Review'].apply(lambda x : re.sub(r'[^\\w\\s]', '', x)) #removing \n",
        "df['Review'] = df['Review'].apply(lambda x : word_tokenize(x)) #tokenizing of the words"
      ],
      "id": "b68627e7",
      "execution_count": 422,
      "outputs": [
        {
          "output_type": "stream",
          "name": "stdout",
          "text": [
            "[nltk_data] Downloading package punkt to /root/nltk_data...\n",
            "[nltk_data]   Package punkt is already up-to-date!\n"
          ]
        }
      ]
    },
    {
      "cell_type": "code",
      "metadata": {
        "colab": {
          "base_uri": "https://localhost:8080/"
        },
        "id": "d4a257bb",
        "outputId": "4d760cf5-79d8-4bc5-aecf-8df26775cb01"
      },
      "source": [
        "df.Review.head()"
      ],
      "id": "d4a257bb",
      "execution_count": 423,
      "outputs": [
        {
          "output_type": "execute_result",
          "data": {
            "text/plain": [
              "0                            [wow, loved, this, place]\n",
              "1                               [crust, is, not, good]\n",
              "2    [not, tasty, and, the, texture, was, just, nasty]\n",
              "3    [stopped, by, during, the, late, may, bank, ho...\n",
              "4    [the, selection, on, the, menu, was, great, an...\n",
              "Name: Review, dtype: object"
            ]
          },
          "metadata": {},
          "execution_count": 423
        }
      ]
    },
    {
      "cell_type": "code",
      "metadata": {
        "colab": {
          "base_uri": "https://localhost:8080/"
        },
        "id": "0fcaba47",
        "outputId": "50db95ea-bbb5-4143-a3af-5ba1d23012d5"
      },
      "source": [
        "from gensim.parsing.preprocessing import STOPWORDS\n",
        "from nltk.corpus import stopwords\n",
        "nltk.download('stopwords')"
      ],
      "id": "0fcaba47",
      "execution_count": 424,
      "outputs": [
        {
          "output_type": "stream",
          "name": "stdout",
          "text": [
            "[nltk_data] Downloading package stopwords to /root/nltk_data...\n",
            "[nltk_data]   Package stopwords is already up-to-date!\n"
          ]
        },
        {
          "output_type": "execute_result",
          "data": {
            "text/plain": [
              "True"
            ]
          },
          "metadata": {},
          "execution_count": 424
        }
      ]
    },
    {
      "cell_type": "code",
      "metadata": {
        "colab": {
          "base_uri": "https://localhost:8080/"
        },
        "id": "35cf5c21",
        "outputId": "9f55da87-5a3a-4156-b0ae-0a38f6bdc2bb"
      },
      "source": [
        "nltk_stopwords = set(stopwords.words('english'))\n",
        "gensim_stopwords = set(STOPWORDS)\n",
        "\n",
        "all_stopwords = nltk_stopwords.union(gensim_stopwords)\n",
        "all_stopwords.remove(\"not\")\n",
        "print(\"Length of all stopwords:\",len(all_stopwords))\n",
        "print(\"Is word of 'the' in the stopwords?\", \"the\" in all_stopwords )"
      ],
      "id": "35cf5c21",
      "execution_count": 425,
      "outputs": [
        {
          "output_type": "stream",
          "name": "stdout",
          "text": [
            "Length of all stopwords: 389\n",
            "Is word of 'the' in the stopwords? True\n"
          ]
        }
      ]
    },
    {
      "cell_type": "code",
      "metadata": {
        "id": "c35d44cb"
      },
      "source": [
        "def list2string(s): \n",
        "    str1 = \" \" \n",
        "    return (str1.join(s))"
      ],
      "id": "c35d44cb",
      "execution_count": 426,
      "outputs": []
    },
    {
      "cell_type": "code",
      "metadata": {
        "id": "ff7dc4fe"
      },
      "source": [
        "df['Review'] = df['Review'].apply(lambda x : list2string(x))"
      ],
      "id": "ff7dc4fe",
      "execution_count": 427,
      "outputs": []
    },
    {
      "cell_type": "code",
      "metadata": {
        "colab": {
          "base_uri": "https://localhost:8080/"
        },
        "id": "ae193e39",
        "outputId": "357f24ca-fa10-4a53-820a-c1d08c70cfd3"
      },
      "source": [
        "df['Review'].head()"
      ],
      "id": "ae193e39",
      "execution_count": 428,
      "outputs": [
        {
          "output_type": "execute_result",
          "data": {
            "text/plain": [
              "0                                 wow loved this place\n",
              "1                                    crust is not good\n",
              "2             not tasty and the texture was just nasty\n",
              "3    stopped by during the late may bank holiday of...\n",
              "4    the selection on the menu was great and so wer...\n",
              "Name: Review, dtype: object"
            ]
          },
          "metadata": {},
          "execution_count": 428
        }
      ]
    },
    {
      "cell_type": "code",
      "metadata": {
        "colab": {
          "base_uri": "https://localhost:8080/"
        },
        "id": "656a93cf",
        "outputId": "42c040a3-6aa7-46f8-a86f-6fdf69eaec68"
      },
      "source": [
        "#Removing stopwords\n",
        "for index in range(1000):\n",
        "    df['Review'][index] = df['Review'][index].split()\n",
        "    for word_index in range(len(df['Review'][index]) - 1):\n",
        "        for word in df['Review'][index]:\n",
        "            if word in all_stopwords:\n",
        "                df['Review'][index].remove(word)"
      ],
      "id": "656a93cf",
      "execution_count": 429,
      "outputs": [
        {
          "output_type": "stream",
          "name": "stderr",
          "text": [
            "/usr/local/lib/python3.7/dist-packages/ipykernel_launcher.py:3: SettingWithCopyWarning: \n",
            "A value is trying to be set on a copy of a slice from a DataFrame\n",
            "\n",
            "See the caveats in the documentation: https://pandas.pydata.org/pandas-docs/stable/user_guide/indexing.html#returning-a-view-versus-a-copy\n",
            "  This is separate from the ipykernel package so we can avoid doing imports until\n"
          ]
        }
      ]
    },
    {
      "cell_type": "code",
      "metadata": {
        "colab": {
          "base_uri": "https://localhost:8080/",
          "height": 801
        },
        "id": "d68d7787",
        "outputId": "53a4e394-b401-4716-8e77-068d4f2807ce"
      },
      "source": [
        "df[['Review']].head(24)"
      ],
      "id": "d68d7787",
      "execution_count": 430,
      "outputs": [
        {
          "output_type": "execute_result",
          "data": {
            "text/html": [
              "<div>\n",
              "<style scoped>\n",
              "    .dataframe tbody tr th:only-of-type {\n",
              "        vertical-align: middle;\n",
              "    }\n",
              "\n",
              "    .dataframe tbody tr th {\n",
              "        vertical-align: top;\n",
              "    }\n",
              "\n",
              "    .dataframe thead th {\n",
              "        text-align: right;\n",
              "    }\n",
              "</style>\n",
              "<table border=\"1\" class=\"dataframe\">\n",
              "  <thead>\n",
              "    <tr style=\"text-align: right;\">\n",
              "      <th></th>\n",
              "      <th>Review</th>\n",
              "    </tr>\n",
              "  </thead>\n",
              "  <tbody>\n",
              "    <tr>\n",
              "      <th>0</th>\n",
              "      <td>[wow, loved, place]</td>\n",
              "    </tr>\n",
              "    <tr>\n",
              "      <th>1</th>\n",
              "      <td>[crust, not, good]</td>\n",
              "    </tr>\n",
              "    <tr>\n",
              "      <th>2</th>\n",
              "      <td>[not, tasty, texture, nasty]</td>\n",
              "    </tr>\n",
              "    <tr>\n",
              "      <th>3</th>\n",
              "      <td>[stopped, late, bank, holiday, rick, steve, re...</td>\n",
              "    </tr>\n",
              "    <tr>\n",
              "      <th>4</th>\n",
              "      <td>[selection, menu, great, prices]</td>\n",
              "    </tr>\n",
              "    <tr>\n",
              "      <th>5</th>\n",
              "      <td>[getting, angry, want, damn, pho]</td>\n",
              "    </tr>\n",
              "    <tr>\n",
              "      <th>6</th>\n",
              "      <td>[honeslty, not, taste, fresh]</td>\n",
              "    </tr>\n",
              "    <tr>\n",
              "      <th>7</th>\n",
              "      <td>[potatoes, like, rubber, tell, ahead, time, ke...</td>\n",
              "    </tr>\n",
              "    <tr>\n",
              "      <th>8</th>\n",
              "      <td>[fries, great]</td>\n",
              "    </tr>\n",
              "    <tr>\n",
              "      <th>9</th>\n",
              "      <td>[great, touch]</td>\n",
              "    </tr>\n",
              "    <tr>\n",
              "      <th>10</th>\n",
              "      <td>[service, prompt]</td>\n",
              "    </tr>\n",
              "    <tr>\n",
              "      <th>11</th>\n",
              "      <td>[not]</td>\n",
              "    </tr>\n",
              "    <tr>\n",
              "      <th>12</th>\n",
              "      <td>[cashier, care, ended, wayyy, overpriced]</td>\n",
              "    </tr>\n",
              "    <tr>\n",
              "      <th>13</th>\n",
              "      <td>[tried, cape, cod, ravoli, chicken, cranberrym...</td>\n",
              "    </tr>\n",
              "    <tr>\n",
              "      <th>14</th>\n",
              "      <td>[disgusted, pretty, sure, human, hair]</td>\n",
              "    </tr>\n",
              "    <tr>\n",
              "      <th>15</th>\n",
              "      <td>[shocked, signs, indicate, cash]</td>\n",
              "    </tr>\n",
              "    <tr>\n",
              "      <th>16</th>\n",
              "      <td>[highly, recommended]</td>\n",
              "    </tr>\n",
              "    <tr>\n",
              "      <th>17</th>\n",
              "      <td>[waitress, little, slow, service]</td>\n",
              "    </tr>\n",
              "    <tr>\n",
              "      <th>18</th>\n",
              "      <td>[place, not, worth, time, let, vegas]</td>\n",
              "    </tr>\n",
              "    <tr>\n",
              "      <th>19</th>\n",
              "      <td>[not, like]</td>\n",
              "    </tr>\n",
              "    <tr>\n",
              "      <th>20</th>\n",
              "      <td>[burrittos, blah]</td>\n",
              "    </tr>\n",
              "    <tr>\n",
              "      <th>21</th>\n",
              "      <td>[food, amazing]</td>\n",
              "    </tr>\n",
              "    <tr>\n",
              "      <th>22</th>\n",
              "      <td>[service, cute]</td>\n",
              "    </tr>\n",
              "    <tr>\n",
              "      <th>23</th>\n",
              "      <td>[care, interior, beautiful]</td>\n",
              "    </tr>\n",
              "  </tbody>\n",
              "</table>\n",
              "</div>"
            ],
            "text/plain": [
              "                                               Review\n",
              "0                                 [wow, loved, place]\n",
              "1                                  [crust, not, good]\n",
              "2                        [not, tasty, texture, nasty]\n",
              "3   [stopped, late, bank, holiday, rick, steve, re...\n",
              "4                    [selection, menu, great, prices]\n",
              "5                   [getting, angry, want, damn, pho]\n",
              "6                       [honeslty, not, taste, fresh]\n",
              "7   [potatoes, like, rubber, tell, ahead, time, ke...\n",
              "8                                      [fries, great]\n",
              "9                                      [great, touch]\n",
              "10                                  [service, prompt]\n",
              "11                                              [not]\n",
              "12          [cashier, care, ended, wayyy, overpriced]\n",
              "13  [tried, cape, cod, ravoli, chicken, cranberrym...\n",
              "14             [disgusted, pretty, sure, human, hair]\n",
              "15                   [shocked, signs, indicate, cash]\n",
              "16                              [highly, recommended]\n",
              "17                  [waitress, little, slow, service]\n",
              "18              [place, not, worth, time, let, vegas]\n",
              "19                                        [not, like]\n",
              "20                                  [burrittos, blah]\n",
              "21                                    [food, amazing]\n",
              "22                                    [service, cute]\n",
              "23                        [care, interior, beautiful]"
            ]
          },
          "metadata": {},
          "execution_count": 430
        }
      ]
    },
    {
      "cell_type": "code",
      "metadata": {
        "scrolled": true,
        "id": "6b61a0de"
      },
      "source": [
        "#df_2.head() -> I wanted to compare orginal texts with proceed text"
      ],
      "id": "6b61a0de",
      "execution_count": 431,
      "outputs": []
    },
    {
      "cell_type": "markdown",
      "metadata": {
        "id": "qMX24VSK0K28"
      },
      "source": [
        "## LEMMATIZATION AND STEMMING "
      ],
      "id": "qMX24VSK0K28"
    },
    {
      "cell_type": "code",
      "metadata": {
        "colab": {
          "base_uri": "https://localhost:8080/"
        },
        "id": "qof2HsVi3wU5",
        "outputId": "719d5204-39df-43ce-f152-6559667061cf"
      },
      "source": [
        "from nltk.stem import SnowballStemmer\n",
        "from nltk.stem import WordNetLemmatizer\n",
        "nltk.download('wordnet')\n",
        "\n",
        "df['Review'] = df['Review'].apply(lambda x : list2string(x))\n",
        "\n",
        "snowball_stemmer = SnowballStemmer(language = \"english\")\n",
        "wordnet_lemmatizer = WordNetLemmatizer()\n",
        "\n",
        "df['Review'] = df['Review'].apply(lambda x : wordnet_lemmatizer.lemmatize(x))\n",
        "df['Review'] = df['Review'].apply(lambda x : snowball_stemmer.stem(x))"
      ],
      "id": "qof2HsVi3wU5",
      "execution_count": 432,
      "outputs": [
        {
          "output_type": "stream",
          "name": "stdout",
          "text": [
            "[nltk_data] Downloading package wordnet to /root/nltk_data...\n",
            "[nltk_data]   Package wordnet is already up-to-date!\n"
          ]
        }
      ]
    },
    {
      "cell_type": "code",
      "metadata": {
        "colab": {
          "base_uri": "https://localhost:8080/",
          "height": 801
        },
        "id": "_GL_VG6D4Lf4",
        "outputId": "0cfab0ab-043b-4414-e2e9-168917b68766"
      },
      "source": [
        "df[['Review']].head(24)"
      ],
      "id": "_GL_VG6D4Lf4",
      "execution_count": 433,
      "outputs": [
        {
          "output_type": "execute_result",
          "data": {
            "text/html": [
              "<div>\n",
              "<style scoped>\n",
              "    .dataframe tbody tr th:only-of-type {\n",
              "        vertical-align: middle;\n",
              "    }\n",
              "\n",
              "    .dataframe tbody tr th {\n",
              "        vertical-align: top;\n",
              "    }\n",
              "\n",
              "    .dataframe thead th {\n",
              "        text-align: right;\n",
              "    }\n",
              "</style>\n",
              "<table border=\"1\" class=\"dataframe\">\n",
              "  <thead>\n",
              "    <tr style=\"text-align: right;\">\n",
              "      <th></th>\n",
              "      <th>Review</th>\n",
              "    </tr>\n",
              "  </thead>\n",
              "  <tbody>\n",
              "    <tr>\n",
              "      <th>0</th>\n",
              "      <td>wow loved plac</td>\n",
              "    </tr>\n",
              "    <tr>\n",
              "      <th>1</th>\n",
              "      <td>crust not good</td>\n",
              "    </tr>\n",
              "    <tr>\n",
              "      <th>2</th>\n",
              "      <td>not tasty texture nasti</td>\n",
              "    </tr>\n",
              "    <tr>\n",
              "      <th>3</th>\n",
              "      <td>stopped late bank holiday rick steve recommend...</td>\n",
              "    </tr>\n",
              "    <tr>\n",
              "      <th>4</th>\n",
              "      <td>selection menu great pric</td>\n",
              "    </tr>\n",
              "    <tr>\n",
              "      <th>5</th>\n",
              "      <td>getting angry want damn pho</td>\n",
              "    </tr>\n",
              "    <tr>\n",
              "      <th>6</th>\n",
              "      <td>honeslty not taste fresh</td>\n",
              "    </tr>\n",
              "    <tr>\n",
              "      <th>7</th>\n",
              "      <td>potatoes like rubber tell ahead time kept warm</td>\n",
              "    </tr>\n",
              "    <tr>\n",
              "      <th>8</th>\n",
              "      <td>fries great</td>\n",
              "    </tr>\n",
              "    <tr>\n",
              "      <th>9</th>\n",
              "      <td>great touch</td>\n",
              "    </tr>\n",
              "    <tr>\n",
              "      <th>10</th>\n",
              "      <td>service prompt</td>\n",
              "    </tr>\n",
              "    <tr>\n",
              "      <th>11</th>\n",
              "      <td>not</td>\n",
              "    </tr>\n",
              "    <tr>\n",
              "      <th>12</th>\n",
              "      <td>cashier care ended wayyy overpr</td>\n",
              "    </tr>\n",
              "    <tr>\n",
              "      <th>13</th>\n",
              "      <td>tried cape cod ravoli chicken cranberrymmmm</td>\n",
              "    </tr>\n",
              "    <tr>\n",
              "      <th>14</th>\n",
              "      <td>disgusted pretty sure human hair</td>\n",
              "    </tr>\n",
              "    <tr>\n",
              "      <th>15</th>\n",
              "      <td>shocked signs indicate cash</td>\n",
              "    </tr>\n",
              "    <tr>\n",
              "      <th>16</th>\n",
              "      <td>highly recommend</td>\n",
              "    </tr>\n",
              "    <tr>\n",
              "      <th>17</th>\n",
              "      <td>waitress little slow servic</td>\n",
              "    </tr>\n",
              "    <tr>\n",
              "      <th>18</th>\n",
              "      <td>place not worth time let vega</td>\n",
              "    </tr>\n",
              "    <tr>\n",
              "      <th>19</th>\n",
              "      <td>not lik</td>\n",
              "    </tr>\n",
              "    <tr>\n",
              "      <th>20</th>\n",
              "      <td>burrittos blah</td>\n",
              "    </tr>\n",
              "    <tr>\n",
              "      <th>21</th>\n",
              "      <td>food amaz</td>\n",
              "    </tr>\n",
              "    <tr>\n",
              "      <th>22</th>\n",
              "      <td>service cut</td>\n",
              "    </tr>\n",
              "    <tr>\n",
              "      <th>23</th>\n",
              "      <td>care interior beauti</td>\n",
              "    </tr>\n",
              "  </tbody>\n",
              "</table>\n",
              "</div>"
            ],
            "text/plain": [
              "                                               Review\n",
              "0                                      wow loved plac\n",
              "1                                      crust not good\n",
              "2                             not tasty texture nasti\n",
              "3   stopped late bank holiday rick steve recommend...\n",
              "4                           selection menu great pric\n",
              "5                         getting angry want damn pho\n",
              "6                            honeslty not taste fresh\n",
              "7      potatoes like rubber tell ahead time kept warm\n",
              "8                                         fries great\n",
              "9                                         great touch\n",
              "10                                     service prompt\n",
              "11                                                not\n",
              "12                    cashier care ended wayyy overpr\n",
              "13        tried cape cod ravoli chicken cranberrymmmm\n",
              "14                   disgusted pretty sure human hair\n",
              "15                        shocked signs indicate cash\n",
              "16                                   highly recommend\n",
              "17                        waitress little slow servic\n",
              "18                      place not worth time let vega\n",
              "19                                            not lik\n",
              "20                                     burrittos blah\n",
              "21                                          food amaz\n",
              "22                                        service cut\n",
              "23                               care interior beauti"
            ]
          },
          "metadata": {},
          "execution_count": 433
        }
      ]
    },
    {
      "cell_type": "code",
      "metadata": {
        "id": "c5e96165"
      },
      "source": [
        "from textblob import TextBlob\n",
        "\n",
        "def getSubjectivity(text):\n",
        "   return TextBlob(text).sentiment.subjectivity\n",
        "  \n",
        "def getPolarity(text):\n",
        "   return TextBlob(text).sentiment.polarity\n",
        "\n",
        "df['subjectivity_score'] = pd.Series(df['Review'].apply(lambda x : getSubjectivity(x)))\n",
        "df['polarity_score'] = pd.Series(df['Review'].apply(lambda x : getPolarity(x)))"
      ],
      "id": "c5e96165",
      "execution_count": 434,
      "outputs": []
    },
    {
      "cell_type": "code",
      "metadata": {
        "colab": {
          "base_uri": "https://localhost:8080/",
          "height": 375
        },
        "id": "1986d077",
        "outputId": "ab6828e1-5f9f-4bf8-ce88-a53a27dcecb2"
      },
      "source": [
        "import seaborn as sns \n",
        "plt.style.use('ggplot')\n",
        "plt.figure(figsize=(10,5))\n",
        "sns.set(font_scale = 1.6)\n",
        "sns.histplot(x = df['subjectivity_score'], bins= 20).set_title(\"Subjectivity score distribution\");"
      ],
      "id": "1986d077",
      "execution_count": 435,
      "outputs": [
        {
          "output_type": "display_data",
          "data": {
            "image/png": "[encoded data removed]",
            "text/plain": [
              "<Figure size 720x360 with 1 Axes>"
            ]
          },
          "metadata": {}
        }
      ]
    },
    {
      "cell_type": "code",
      "metadata": {
        "colab": {
          "base_uri": "https://localhost:8080/",
          "height": 375
        },
        "id": "67fcc3ff",
        "outputId": "c1fb4a2f-4a87-43dc-c195-b91c78e7f0e8"
      },
      "source": [
        "plt.style.use('ggplot')\n",
        "plt.figure(figsize=(10,5))\n",
        "sns.set(font_scale = 1.6)\n",
        "sns.histplot(x = df['polarity_score'], bins= 10).set_title(\"Polarity score distribution\");"
      ],
      "id": "67fcc3ff",
      "execution_count": 436,
      "outputs": [
        {
          "output_type": "display_data",
          "data": {
            "image/png": "[encoded data removed]",
            "text/plain": [
              "<Figure size 720x360 with 1 Axes>"
            ]
          },
          "metadata": {}
        }
      ]
    },
    {
      "cell_type": "code",
      "metadata": {
        "colab": {
          "base_uri": "https://localhost:8080/",
          "height": 411
        },
        "id": "7ba9c929",
        "outputId": "aed00107-b4ed-4e23-9462-82a2a50471fb"
      },
      "source": [
        "negative_reviews = df[ df['Liked'] == 0]\n",
        "positive_reviews = df[ df['Liked'] == 1]\n",
        "\n",
        "pie_labels = [\"Positive\", \"Negative\"]\n",
        "y = np.array([len(negative_reviews), len(positive_reviews)])\n",
        "plt.figure(figsize = (19, 7))\n",
        "plt.pie(y, labels = pie_labels, startangle = 90, shadow = True, autopct='%.2f')\n",
        "plt.legend(loc = \"best\")\n",
        "plt.show()"
      ],
      "id": "7ba9c929",
      "execution_count": 437,
      "outputs": [
        {
          "output_type": "display_data",
          "data": {
            "image/png": "[encoded data removed]",
            "text/plain": [
              "<Figure size 1368x504 with 1 Axes>"
            ]
          },
          "metadata": {}
        }
      ]
    },
    {
      "cell_type": "markdown",
      "metadata": {
        "id": "A7ZnjySU5lZ5"
      },
      "source": [
        "##DEEP LEARNING MODEL"
      ],
      "id": "A7ZnjySU5lZ5"
    },
    {
      "cell_type": "markdown",
      "metadata": {
        "id": "8ofn-3dh5pPh"
      },
      "source": [
        "#Preparing Data"
      ],
      "id": "8ofn-3dh5pPh"
    },
    {
      "cell_type": "code",
      "metadata": {
        "id": "sfE2YeSE5nGM"
      },
      "source": [
        "from tensorflow.keras.preprocessing.sequence import pad_sequences\n",
        "from tensorflow.keras.preprocessing.text import Tokenizer\n",
        "from sklearn.model_selection import train_test_split"
      ],
      "id": "sfE2YeSE5nGM",
      "execution_count": 438,
      "outputs": []
    },
    {
      "cell_type": "code",
      "metadata": {
        "id": "2DW7IA7fD2wZ",
        "colab": {
          "base_uri": "https://localhost:8080/"
        },
        "outputId": "05909aee-393a-45e7-fa9e-5d6470544098"
      },
      "source": [
        "x = df['Review'].values\n",
        "y = df['Liked'].values\n",
        "x_train, x_test, y_train, y_test = train_test_split(x , y, test_size = 0.3, shuffle = True)\n",
        "\n",
        "print(\"Shape of the x_train:\", x_train.shape)\n",
        "print(\"Shape of the x_test: \", x_test.shape)"
      ],
      "id": "2DW7IA7fD2wZ",
      "execution_count": 439,
      "outputs": [
        {
          "output_type": "stream",
          "name": "stdout",
          "text": [
            "Shape of the x_train: (700,)\n",
            "Shape of the x_test:  (300,)\n"
          ]
        }
      ]
    },
    {
      "cell_type": "code",
      "metadata": {
        "id": "mgTMdJMTCrNq",
        "colab": {
          "base_uri": "https://localhost:8080/"
        },
        "outputId": "f36a894e-31d9-457f-f054-ec6a0572564c"
      },
      "source": [
        "tokenizer = Tokenizer(num_words= 10000, oov_token= \"<OOV>\", lower= False)\n",
        "tokenizer.fit_on_texts(x_train)\n",
        "x_train = tokenizer.texts_to_sequences(x_train)\n",
        "x_train = np.array(x_train)\n",
        "padded_trainx = pad_sequences(x_train, padding = \"post\", maxlen = 100)\n",
        "\n",
        "\n",
        "tokenizer.fit_on_texts(x_test)\n",
        "x_test = tokenizer.texts_to_sequences(x_test)\n",
        "x_test = np.array(x_test)\n",
        "padded_testx = pad_sequences(x_test, padding = \"post\", maxlen = 100)"
      ],
      "id": "mgTMdJMTCrNq",
      "execution_count": 440,
      "outputs": [
        {
          "output_type": "stream",
          "name": "stderr",
          "text": [
            "/usr/local/lib/python3.7/dist-packages/ipykernel_launcher.py:4: VisibleDeprecationWarning: Creating an ndarray from ragged nested sequences (which is a list-or-tuple of lists-or-tuples-or ndarrays with different lengths or shapes) is deprecated. If you meant to do this, you must specify 'dtype=object' when creating the ndarray\n",
            "  after removing the cwd from sys.path.\n",
            "/usr/local/lib/python3.7/dist-packages/ipykernel_launcher.py:10: VisibleDeprecationWarning: Creating an ndarray from ragged nested sequences (which is a list-or-tuple of lists-or-tuples-or ndarrays with different lengths or shapes) is deprecated. If you meant to do this, you must specify 'dtype=object' when creating the ndarray\n",
            "  # Remove the CWD from sys.path while we load stuff.\n"
          ]
        }
      ]
    },
    {
      "cell_type": "code",
      "metadata": {
        "colab": {
          "base_uri": "https://localhost:8080/"
        },
        "id": "TdQemNOVAvei",
        "outputId": "c7174ce9-47c3-4ca9-916a-bc35c49908ee"
      },
      "source": [
        "padded_trainx[np.random.randint(0,699)].shape"
      ],
      "id": "TdQemNOVAvei",
      "execution_count": 441,
      "outputs": [
        {
          "output_type": "execute_result",
          "data": {
            "text/plain": [
              "(100,)"
            ]
          },
          "metadata": {},
          "execution_count": 441
        }
      ]
    },
    {
      "cell_type": "code",
      "metadata": {
        "colab": {
          "base_uri": "https://localhost:8080/"
        },
        "id": "pPHBmRMLA0ra",
        "outputId": "0ca15425-58db-4bf6-e878-5c394f17ae27"
      },
      "source": [
        "padded_testx[1]"
      ],
      "id": "pPHBmRMLA0ra",
      "execution_count": 442,
      "outputs": [
        {
          "output_type": "execute_result",
          "data": {
            "text/plain": [
              "array([1554,   20,  100,  667,  668,    0,    0,    0,    0,    0,    0,\n",
              "          0,    0,    0,    0,    0,    0,    0,    0,    0,    0,    0,\n",
              "          0,    0,    0,    0,    0,    0,    0,    0,    0,    0,    0,\n",
              "          0,    0,    0,    0,    0,    0,    0,    0,    0,    0,    0,\n",
              "          0,    0,    0,    0,    0,    0,    0,    0,    0,    0,    0,\n",
              "          0,    0,    0,    0,    0,    0,    0,    0,    0,    0,    0,\n",
              "          0,    0,    0,    0,    0,    0,    0,    0,    0,    0,    0,\n",
              "          0,    0,    0,    0,    0,    0,    0,    0,    0,    0,    0,\n",
              "          0,    0,    0,    0,    0,    0,    0,    0,    0,    0,    0,\n",
              "          0], dtype=int32)"
            ]
          },
          "metadata": {},
          "execution_count": 442
        }
      ]
    },
    {
      "cell_type": "code",
      "metadata": {
        "id": "b_o6Nvj2DR4B"
      },
      "source": [
        "import tensorflow as tf\n",
        "\n",
        "model = tf.keras.Sequential([\n",
        "    tf.keras.layers.Embedding(10000, 12, input_length=100),\n",
        "    tf.keras.layers.GlobalAveragePooling1D(),\n",
        "    tf.keras.layers.Dense(32, activation='relu'),\n",
        "    tf.keras.layers.Dropout(0.3),\n",
        "    tf.keras.layers.Dense(1, activation='sigmoid'),\n",
        "])\n",
        "\n",
        "from tensorflow.keras.optimizers import SGD\n",
        "from tensorflow.keras.optimizers import Adam\n",
        "model.compile(loss='binary_crossentropy', optimizer= \"adam\", metrics=['accuracy'])"
      ],
      "id": "b_o6Nvj2DR4B",
      "execution_count": 443,
      "outputs": []
    },
    {
      "cell_type": "code",
      "metadata": {
        "colab": {
          "base_uri": "https://localhost:8080/"
        },
        "id": "QHUenUh9D-vm",
        "outputId": "5e00bc64-436d-43b1-b55b-525829696edc"
      },
      "source": [
        "y_train = np.array(y_train)\n",
        "y_test = np.array(y_test)\n",
        "history = model.fit(padded_trainx, y_train, epochs= 100, validation_data=(padded_testx, y_test), verbose=2)"
      ],
      "id": "QHUenUh9D-vm",
      "execution_count": 444,
      "outputs": [
        {
          "output_type": "stream",
          "name": "stdout",
          "text": [
            "Epoch 1/100\n",
            "22/22 - 1s - loss: 0.6935 - accuracy: 0.4857 - val_loss: 0.6932 - val_accuracy: 0.4633 - 858ms/epoch - 39ms/step\n",
            "Epoch 2/100\n",
            "22/22 - 0s - loss: 0.6927 - accuracy: 0.5357 - val_loss: 0.6937 - val_accuracy: 0.4733 - 79ms/epoch - 4ms/step\n",
            "Epoch 3/100\n",
            "22/22 - 0s - loss: 0.6928 - accuracy: 0.5171 - val_loss: 0.6937 - val_accuracy: 0.4733 - 84ms/epoch - 4ms/step\n",
            "Epoch 4/100\n",
            "22/22 - 0s - loss: 0.6924 - accuracy: 0.5100 - val_loss: 0.6939 - val_accuracy: 0.4733 - 99ms/epoch - 5ms/step\n",
            "Epoch 5/100\n",
            "22/22 - 0s - loss: 0.6924 - accuracy: 0.5129 - val_loss: 0.6937 - val_accuracy: 0.4733 - 91ms/epoch - 4ms/step\n",
            "Epoch 6/100\n",
            "22/22 - 0s - loss: 0.6917 - accuracy: 0.5143 - val_loss: 0.6937 - val_accuracy: 0.4733 - 91ms/epoch - 4ms/step\n",
            "Epoch 7/100\n",
            "22/22 - 0s - loss: 0.6913 - accuracy: 0.5529 - val_loss: 0.6929 - val_accuracy: 0.4833 - 82ms/epoch - 4ms/step\n",
            "Epoch 8/100\n",
            "22/22 - 0s - loss: 0.6906 - accuracy: 0.5657 - val_loss: 0.6931 - val_accuracy: 0.4733 - 88ms/epoch - 4ms/step\n",
            "Epoch 9/100\n",
            "22/22 - 0s - loss: 0.6898 - accuracy: 0.6014 - val_loss: 0.6928 - val_accuracy: 0.4767 - 96ms/epoch - 4ms/step\n",
            "Epoch 10/100\n",
            "22/22 - 0s - loss: 0.6890 - accuracy: 0.6229 - val_loss: 0.6926 - val_accuracy: 0.4767 - 94ms/epoch - 4ms/step\n",
            "Epoch 11/100\n",
            "22/22 - 0s - loss: 0.6865 - accuracy: 0.6086 - val_loss: 0.6922 - val_accuracy: 0.4833 - 76ms/epoch - 3ms/step\n",
            "Epoch 12/100\n",
            "22/22 - 0s - loss: 0.6857 - accuracy: 0.6171 - val_loss: 0.6915 - val_accuracy: 0.5267 - 95ms/epoch - 4ms/step\n",
            "Epoch 13/100\n",
            "22/22 - 0s - loss: 0.6821 - accuracy: 0.7229 - val_loss: 0.6908 - val_accuracy: 0.5367 - 86ms/epoch - 4ms/step\n",
            "Epoch 14/100\n",
            "22/22 - 0s - loss: 0.6788 - accuracy: 0.7657 - val_loss: 0.6897 - val_accuracy: 0.5467 - 90ms/epoch - 4ms/step\n",
            "Epoch 15/100\n",
            "22/22 - 0s - loss: 0.6747 - accuracy: 0.6214 - val_loss: 0.6875 - val_accuracy: 0.5933 - 88ms/epoch - 4ms/step\n",
            "Epoch 16/100\n",
            "22/22 - 0s - loss: 0.6666 - accuracy: 0.7971 - val_loss: 0.6853 - val_accuracy: 0.6200 - 101ms/epoch - 5ms/step\n",
            "Epoch 17/100\n",
            "22/22 - 0s - loss: 0.6616 - accuracy: 0.7500 - val_loss: 0.6837 - val_accuracy: 0.5967 - 96ms/epoch - 4ms/step\n",
            "Epoch 18/100\n",
            "22/22 - 0s - loss: 0.6507 - accuracy: 0.8271 - val_loss: 0.6827 - val_accuracy: 0.5800 - 79ms/epoch - 4ms/step\n",
            "Epoch 19/100\n",
            "22/22 - 0s - loss: 0.6392 - accuracy: 0.8443 - val_loss: 0.6769 - val_accuracy: 0.6233 - 103ms/epoch - 5ms/step\n",
            "Epoch 20/100\n",
            "22/22 - 0s - loss: 0.6231 - accuracy: 0.8586 - val_loss: 0.6737 - val_accuracy: 0.6000 - 80ms/epoch - 4ms/step\n",
            "Epoch 21/100\n",
            "22/22 - 0s - loss: 0.6023 - accuracy: 0.8886 - val_loss: 0.6712 - val_accuracy: 0.6300 - 93ms/epoch - 4ms/step\n",
            "Epoch 22/100\n",
            "22/22 - 0s - loss: 0.5832 - accuracy: 0.8314 - val_loss: 0.6631 - val_accuracy: 0.6200 - 84ms/epoch - 4ms/step\n",
            "Epoch 23/100\n",
            "22/22 - 0s - loss: 0.5622 - accuracy: 0.8729 - val_loss: 0.6620 - val_accuracy: 0.6200 - 90ms/epoch - 4ms/step\n",
            "Epoch 24/100\n",
            "22/22 - 0s - loss: 0.5422 - accuracy: 0.9114 - val_loss: 0.6611 - val_accuracy: 0.5933 - 90ms/epoch - 4ms/step\n",
            "Epoch 25/100\n",
            "22/22 - 0s - loss: 0.5175 - accuracy: 0.8729 - val_loss: 0.6519 - val_accuracy: 0.6300 - 92ms/epoch - 4ms/step\n",
            "Epoch 26/100\n",
            "22/22 - 0s - loss: 0.4897 - accuracy: 0.8729 - val_loss: 0.6539 - val_accuracy: 0.6133 - 96ms/epoch - 4ms/step\n",
            "Epoch 27/100\n",
            "22/22 - 0s - loss: 0.4615 - accuracy: 0.9200 - val_loss: 0.6473 - val_accuracy: 0.6300 - 90ms/epoch - 4ms/step\n",
            "Epoch 28/100\n",
            "22/22 - 0s - loss: 0.4319 - accuracy: 0.9271 - val_loss: 0.6389 - val_accuracy: 0.6033 - 80ms/epoch - 4ms/step\n",
            "Epoch 29/100\n",
            "22/22 - 0s - loss: 0.4062 - accuracy: 0.9300 - val_loss: 0.6405 - val_accuracy: 0.6100 - 89ms/epoch - 4ms/step\n",
            "Epoch 30/100\n",
            "22/22 - 0s - loss: 0.3888 - accuracy: 0.9243 - val_loss: 0.6552 - val_accuracy: 0.6133 - 104ms/epoch - 5ms/step\n",
            "Epoch 31/100\n",
            "22/22 - 0s - loss: 0.3595 - accuracy: 0.9386 - val_loss: 0.6507 - val_accuracy: 0.6167 - 89ms/epoch - 4ms/step\n",
            "Epoch 32/100\n",
            "22/22 - 0s - loss: 0.3479 - accuracy: 0.9329 - val_loss: 0.6530 - val_accuracy: 0.6233 - 89ms/epoch - 4ms/step\n",
            "Epoch 33/100\n",
            "22/22 - 0s - loss: 0.3266 - accuracy: 0.9400 - val_loss: 0.6407 - val_accuracy: 0.6133 - 93ms/epoch - 4ms/step\n",
            "Epoch 34/100\n",
            "22/22 - 0s - loss: 0.3123 - accuracy: 0.9243 - val_loss: 0.6439 - val_accuracy: 0.6233 - 80ms/epoch - 4ms/step\n",
            "Epoch 35/100\n",
            "22/22 - 0s - loss: 0.2904 - accuracy: 0.9414 - val_loss: 0.6481 - val_accuracy: 0.6100 - 92ms/epoch - 4ms/step\n",
            "Epoch 36/100\n",
            "22/22 - 0s - loss: 0.2800 - accuracy: 0.9443 - val_loss: 0.6536 - val_accuracy: 0.6067 - 96ms/epoch - 4ms/step\n",
            "Epoch 37/100\n",
            "22/22 - 0s - loss: 0.2676 - accuracy: 0.9457 - val_loss: 0.6646 - val_accuracy: 0.6067 - 86ms/epoch - 4ms/step\n",
            "Epoch 38/100\n",
            "22/22 - 0s - loss: 0.2566 - accuracy: 0.9486 - val_loss: 0.6729 - val_accuracy: 0.6233 - 87ms/epoch - 4ms/step\n",
            "Epoch 39/100\n",
            "22/22 - 0s - loss: 0.2453 - accuracy: 0.9571 - val_loss: 0.6724 - val_accuracy: 0.6233 - 95ms/epoch - 4ms/step\n",
            "Epoch 40/100\n",
            "22/22 - 0s - loss: 0.2340 - accuracy: 0.9429 - val_loss: 0.6787 - val_accuracy: 0.6200 - 87ms/epoch - 4ms/step\n",
            "Epoch 41/100\n",
            "22/22 - 0s - loss: 0.2259 - accuracy: 0.9514 - val_loss: 0.6949 - val_accuracy: 0.6300 - 96ms/epoch - 4ms/step\n",
            "Epoch 42/100\n",
            "22/22 - 0s - loss: 0.2116 - accuracy: 0.9543 - val_loss: 0.6927 - val_accuracy: 0.6167 - 94ms/epoch - 4ms/step\n",
            "Epoch 43/100\n",
            "22/22 - 0s - loss: 0.2066 - accuracy: 0.9571 - val_loss: 0.7065 - val_accuracy: 0.6200 - 96ms/epoch - 4ms/step\n",
            "Epoch 44/100\n",
            "22/22 - 0s - loss: 0.1946 - accuracy: 0.9571 - val_loss: 0.7152 - val_accuracy: 0.6333 - 90ms/epoch - 4ms/step\n",
            "Epoch 45/100\n",
            "22/22 - 0s - loss: 0.1861 - accuracy: 0.9571 - val_loss: 0.7145 - val_accuracy: 0.6133 - 90ms/epoch - 4ms/step\n",
            "Epoch 46/100\n",
            "22/22 - 0s - loss: 0.1857 - accuracy: 0.9614 - val_loss: 0.7212 - val_accuracy: 0.6100 - 85ms/epoch - 4ms/step\n",
            "Epoch 47/100\n",
            "22/22 - 0s - loss: 0.1790 - accuracy: 0.9671 - val_loss: 0.7286 - val_accuracy: 0.6167 - 91ms/epoch - 4ms/step\n",
            "Epoch 48/100\n",
            "22/22 - 0s - loss: 0.1742 - accuracy: 0.9643 - val_loss: 0.7433 - val_accuracy: 0.6100 - 90ms/epoch - 4ms/step\n",
            "Epoch 49/100\n",
            "22/22 - 0s - loss: 0.1611 - accuracy: 0.9686 - val_loss: 0.7490 - val_accuracy: 0.6167 - 100ms/epoch - 5ms/step\n",
            "Epoch 50/100\n",
            "22/22 - 0s - loss: 0.1657 - accuracy: 0.9714 - val_loss: 0.7677 - val_accuracy: 0.6333 - 79ms/epoch - 4ms/step\n",
            "Epoch 51/100\n",
            "22/22 - 0s - loss: 0.1552 - accuracy: 0.9700 - val_loss: 0.7654 - val_accuracy: 0.6133 - 100ms/epoch - 5ms/step\n",
            "Epoch 52/100\n",
            "22/22 - 0s - loss: 0.1474 - accuracy: 0.9671 - val_loss: 0.7875 - val_accuracy: 0.6267 - 81ms/epoch - 4ms/step\n",
            "Epoch 53/100\n",
            "22/22 - 0s - loss: 0.1499 - accuracy: 0.9671 - val_loss: 0.7942 - val_accuracy: 0.6233 - 90ms/epoch - 4ms/step\n",
            "Epoch 54/100\n",
            "22/22 - 0s - loss: 0.1463 - accuracy: 0.9671 - val_loss: 0.7898 - val_accuracy: 0.6133 - 81ms/epoch - 4ms/step\n",
            "Epoch 55/100\n",
            "22/22 - 0s - loss: 0.1361 - accuracy: 0.9700 - val_loss: 0.8127 - val_accuracy: 0.6167 - 83ms/epoch - 4ms/step\n",
            "Epoch 56/100\n",
            "22/22 - 0s - loss: 0.1364 - accuracy: 0.9786 - val_loss: 0.8069 - val_accuracy: 0.6100 - 82ms/epoch - 4ms/step\n",
            "Epoch 57/100\n",
            "22/22 - 0s - loss: 0.1300 - accuracy: 0.9729 - val_loss: 0.8287 - val_accuracy: 0.6233 - 94ms/epoch - 4ms/step\n",
            "Epoch 58/100\n",
            "22/22 - 0s - loss: 0.1305 - accuracy: 0.9657 - val_loss: 0.8171 - val_accuracy: 0.6100 - 97ms/epoch - 4ms/step\n",
            "Epoch 59/100\n",
            "22/22 - 0s - loss: 0.1268 - accuracy: 0.9729 - val_loss: 0.8293 - val_accuracy: 0.6067 - 80ms/epoch - 4ms/step\n",
            "Epoch 60/100\n",
            "22/22 - 0s - loss: 0.1282 - accuracy: 0.9686 - val_loss: 0.8428 - val_accuracy: 0.6233 - 90ms/epoch - 4ms/step\n",
            "Epoch 61/100\n",
            "22/22 - 0s - loss: 0.1185 - accuracy: 0.9714 - val_loss: 0.8867 - val_accuracy: 0.6300 - 84ms/epoch - 4ms/step\n",
            "Epoch 62/100\n",
            "22/22 - 0s - loss: 0.1173 - accuracy: 0.9786 - val_loss: 0.8779 - val_accuracy: 0.6300 - 98ms/epoch - 4ms/step\n",
            "Epoch 63/100\n",
            "22/22 - 0s - loss: 0.1139 - accuracy: 0.9714 - val_loss: 0.8736 - val_accuracy: 0.6233 - 91ms/epoch - 4ms/step\n",
            "Epoch 64/100\n",
            "22/22 - 0s - loss: 0.0997 - accuracy: 0.9829 - val_loss: 0.8762 - val_accuracy: 0.6100 - 94ms/epoch - 4ms/step\n",
            "Epoch 65/100\n",
            "22/22 - 0s - loss: 0.1046 - accuracy: 0.9700 - val_loss: 0.8816 - val_accuracy: 0.5967 - 90ms/epoch - 4ms/step\n",
            "Epoch 66/100\n",
            "22/22 - 0s - loss: 0.1007 - accuracy: 0.9786 - val_loss: 0.8835 - val_accuracy: 0.6100 - 78ms/epoch - 4ms/step\n",
            "Epoch 67/100\n",
            "22/22 - 0s - loss: 0.1011 - accuracy: 0.9757 - val_loss: 0.9070 - val_accuracy: 0.6167 - 94ms/epoch - 4ms/step\n",
            "Epoch 68/100\n",
            "22/22 - 0s - loss: 0.0987 - accuracy: 0.9786 - val_loss: 0.9046 - val_accuracy: 0.5967 - 95ms/epoch - 4ms/step\n",
            "Epoch 69/100\n",
            "22/22 - 0s - loss: 0.0996 - accuracy: 0.9757 - val_loss: 0.9162 - val_accuracy: 0.6033 - 94ms/epoch - 4ms/step\n",
            "Epoch 70/100\n",
            "22/22 - 0s - loss: 0.0975 - accuracy: 0.9786 - val_loss: 0.9321 - val_accuracy: 0.6167 - 89ms/epoch - 4ms/step\n",
            "Epoch 71/100\n",
            "22/22 - 0s - loss: 0.0859 - accuracy: 0.9814 - val_loss: 0.9296 - val_accuracy: 0.5933 - 88ms/epoch - 4ms/step\n",
            "Epoch 72/100\n",
            "22/22 - 0s - loss: 0.0968 - accuracy: 0.9743 - val_loss: 0.9311 - val_accuracy: 0.6067 - 84ms/epoch - 4ms/step\n",
            "Epoch 73/100\n",
            "22/22 - 0s - loss: 0.0903 - accuracy: 0.9771 - val_loss: 0.9475 - val_accuracy: 0.6133 - 91ms/epoch - 4ms/step\n",
            "Epoch 74/100\n",
            "22/22 - 0s - loss: 0.0875 - accuracy: 0.9829 - val_loss: 0.9438 - val_accuracy: 0.6133 - 90ms/epoch - 4ms/step\n",
            "Epoch 75/100\n",
            "22/22 - 0s - loss: 0.0828 - accuracy: 0.9857 - val_loss: 0.9691 - val_accuracy: 0.6200 - 90ms/epoch - 4ms/step\n",
            "Epoch 76/100\n",
            "22/22 - 0s - loss: 0.0855 - accuracy: 0.9771 - val_loss: 0.9585 - val_accuracy: 0.6133 - 97ms/epoch - 4ms/step\n",
            "Epoch 77/100\n",
            "22/22 - 0s - loss: 0.0841 - accuracy: 0.9814 - val_loss: 0.9765 - val_accuracy: 0.6100 - 86ms/epoch - 4ms/step\n",
            "Epoch 78/100\n",
            "22/22 - 0s - loss: 0.0820 - accuracy: 0.9786 - val_loss: 0.9977 - val_accuracy: 0.6233 - 79ms/epoch - 4ms/step\n",
            "Epoch 79/100\n",
            "22/22 - 0s - loss: 0.0778 - accuracy: 0.9800 - val_loss: 0.9870 - val_accuracy: 0.5933 - 87ms/epoch - 4ms/step\n",
            "Epoch 80/100\n",
            "22/22 - 0s - loss: 0.0782 - accuracy: 0.9800 - val_loss: 0.9995 - val_accuracy: 0.6100 - 85ms/epoch - 4ms/step\n",
            "Epoch 81/100\n",
            "22/22 - 0s - loss: 0.0763 - accuracy: 0.9829 - val_loss: 1.0289 - val_accuracy: 0.6267 - 92ms/epoch - 4ms/step\n",
            "Epoch 82/100\n",
            "22/22 - 0s - loss: 0.0795 - accuracy: 0.9814 - val_loss: 1.0153 - val_accuracy: 0.6100 - 90ms/epoch - 4ms/step\n",
            "Epoch 83/100\n",
            "22/22 - 0s - loss: 0.0743 - accuracy: 0.9757 - val_loss: 1.0165 - val_accuracy: 0.5933 - 95ms/epoch - 4ms/step\n",
            "Epoch 84/100\n",
            "22/22 - 0s - loss: 0.0786 - accuracy: 0.9757 - val_loss: 1.0177 - val_accuracy: 0.6000 - 94ms/epoch - 4ms/step\n",
            "Epoch 85/100\n",
            "22/22 - 0s - loss: 0.0727 - accuracy: 0.9814 - val_loss: 1.0434 - val_accuracy: 0.6200 - 87ms/epoch - 4ms/step\n",
            "Epoch 86/100\n",
            "22/22 - 0s - loss: 0.0688 - accuracy: 0.9800 - val_loss: 1.0560 - val_accuracy: 0.6233 - 84ms/epoch - 4ms/step\n",
            "Epoch 87/100\n",
            "22/22 - 0s - loss: 0.0684 - accuracy: 0.9843 - val_loss: 1.0414 - val_accuracy: 0.6000 - 97ms/epoch - 4ms/step\n",
            "Epoch 88/100\n",
            "22/22 - 0s - loss: 0.0639 - accuracy: 0.9829 - val_loss: 1.0596 - val_accuracy: 0.6100 - 90ms/epoch - 4ms/step\n",
            "Epoch 89/100\n",
            "22/22 - 0s - loss: 0.0708 - accuracy: 0.9814 - val_loss: 1.1079 - val_accuracy: 0.6100 - 83ms/epoch - 4ms/step\n",
            "Epoch 90/100\n",
            "22/22 - 0s - loss: 0.0662 - accuracy: 0.9786 - val_loss: 1.0641 - val_accuracy: 0.6000 - 100ms/epoch - 5ms/step\n",
            "Epoch 91/100\n",
            "22/22 - 0s - loss: 0.0617 - accuracy: 0.9843 - val_loss: 1.0725 - val_accuracy: 0.5933 - 94ms/epoch - 4ms/step\n",
            "Epoch 92/100\n",
            "22/22 - 0s - loss: 0.0679 - accuracy: 0.9814 - val_loss: 1.0764 - val_accuracy: 0.5933 - 106ms/epoch - 5ms/step\n",
            "Epoch 93/100\n",
            "22/22 - 0s - loss: 0.0608 - accuracy: 0.9843 - val_loss: 1.0885 - val_accuracy: 0.5867 - 98ms/epoch - 4ms/step\n",
            "Epoch 94/100\n",
            "22/22 - 0s - loss: 0.0676 - accuracy: 0.9843 - val_loss: 1.0941 - val_accuracy: 0.5900 - 97ms/epoch - 4ms/step\n",
            "Epoch 95/100\n",
            "22/22 - 0s - loss: 0.0578 - accuracy: 0.9857 - val_loss: 1.1073 - val_accuracy: 0.6000 - 84ms/epoch - 4ms/step\n",
            "Epoch 96/100\n",
            "22/22 - 0s - loss: 0.0573 - accuracy: 0.9886 - val_loss: 1.1376 - val_accuracy: 0.6200 - 98ms/epoch - 4ms/step\n",
            "Epoch 97/100\n",
            "22/22 - 0s - loss: 0.0590 - accuracy: 0.9857 - val_loss: 1.1120 - val_accuracy: 0.6100 - 83ms/epoch - 4ms/step\n",
            "Epoch 98/100\n",
            "22/22 - 0s - loss: 0.0504 - accuracy: 0.9886 - val_loss: 1.1317 - val_accuracy: 0.5933 - 81ms/epoch - 4ms/step\n",
            "Epoch 99/100\n",
            "22/22 - 0s - loss: 0.0599 - accuracy: 0.9786 - val_loss: 1.1346 - val_accuracy: 0.5867 - 82ms/epoch - 4ms/step\n",
            "Epoch 100/100\n",
            "22/22 - 0s - loss: 0.0513 - accuracy: 0.9843 - val_loss: 1.1633 - val_accuracy: 0.6167 - 93ms/epoch - 4ms/step\n"
          ]
        }
      ]
    },
    {
      "cell_type": "code",
      "metadata": {
        "colab": {
          "base_uri": "https://localhost:8080/"
        },
        "id": "ZviYijg2EcC5",
        "outputId": "fd4f7ce5-8759-46c4-824a-e27ee646f913"
      },
      "source": [
        "model.evaluate(padded_testx, y_test)"
      ],
      "id": "ZviYijg2EcC5",
      "execution_count": 445,
      "outputs": [
        {
          "output_type": "stream",
          "name": "stdout",
          "text": [
            "10/10 [==============================] - 0s 2ms/step - loss: 1.1633 - accuracy: 0.6167\n"
          ]
        },
        {
          "output_type": "execute_result",
          "data": {
            "text/plain": [
              "[1.1633265018463135, 0.6166666746139526]"
            ]
          },
          "metadata": {},
          "execution_count": 445
        }
      ]
    },
    {
      "cell_type": "code",
      "metadata": {
        "colab": {
          "base_uri": "https://localhost:8080/"
        },
        "id": "7nkRQFVjE8Fv",
        "outputId": "d53936cd-2603-4e86-d785-6ccea0331cef"
      },
      "source": [
        "sentence = [\"I did not like this restaurant\", \"This restaurant was really good\", \"That restaurant was kinda trash\", \"Delicious foods\", \"Crazy about all these foods\"]\n",
        "sequences = tokenizer.texts_to_sequences(sentence)\n",
        "padded = pad_sequences(sequences, maxlen=100, padding=\"post\")\n",
        "print(model.predict(padded))"
      ],
      "id": "7nkRQFVjE8Fv",
      "execution_count": 461,
      "outputs": [
        {
          "output_type": "stream",
          "name": "stdout",
          "text": [
            "[[0.05607855]\n",
            " [0.78780496]\n",
            " [0.23600966]\n",
            " [0.76181257]\n",
            " [0.74524266]]\n"
          ]
        }
      ]
    },
    {
      "cell_type": "code",
      "metadata": {
        "id": "kSlQG92cIu1-"
      },
      "source": [
        ""
      ],
      "id": "kSlQG92cIu1-",
      "execution_count": null,
      "outputs": []
    }
  ]
}