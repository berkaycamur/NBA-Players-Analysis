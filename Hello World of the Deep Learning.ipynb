{
  "nbformat": 4,
  "nbformat_minor": 0,
  "metadata": {
    "colab": {
      "name": "DL with MNIST dataset.ipynb",
      "provenance": [],
      "collapsed_sections": [
        "KeSvwfk044S2",
        "zKXTwRFv5k2s"
      ],
      "authorship_tag": "ABX9TyMTZPe7j7Hyn/f8PjB9Apdq",
      "include_colab_link": true
    },
    "kernelspec": {
      "name": "python3",
      "display_name": "Python 3"
    },
    "language_info": {
      "name": "python"
    }
  },
  "cells": [
    {
      "cell_type": "markdown",
      "metadata": {
        "id": "view-in-github",
        "colab_type": "text"
      },
      "source": [
        "<a href=\"https://colab.research.google.com/github/berkaycamur/data_science_projects/blob/main/Hello%20World%20of%20the%20Deep%20Learning.ipynb\" target=\"_parent\"><img src=\"https://colab.research.google.com/assets/colab-badge.svg\" alt=\"Open In Colab\"/></a>"
      ]
    },
    {
      "cell_type": "markdown",
      "metadata": {
        "id": "KeSvwfk044S2"
      },
      "source": [
        "# Importing Libraries"
      ]
    },
    {
      "cell_type": "code",
      "metadata": {
        "id": "XZ4_JGxa4-ST"
      },
      "source": [
        "import tensorflow as tf\n",
        "import numpy as np \n",
        "import matplotlib.pyplot as plt "
      ],
      "execution_count": null,
      "outputs": []
    },
    {
      "cell_type": "markdown",
      "metadata": {
        "id": "zKXTwRFv5k2s"
      },
      "source": [
        "# Importing data"
      ]
    },
    {
      "cell_type": "code",
      "metadata": {
        "id": "4quB1R8r5me3"
      },
      "source": [
        "mnist = tf.keras.datasets.mnist\n",
        "(x_train, y_train) , (x_test, y_test) = mnist.load_data()"
      ],
      "execution_count": null,
      "outputs": []
    },
    {
      "cell_type": "markdown",
      "metadata": {
        "id": "qSOWfyOy5zs4"
      },
      "source": [
        "# Visualizing the data"
      ]
    },
    {
      "cell_type": "code",
      "metadata": {
        "colab": {
          "base_uri": "https://localhost:8080/"
        },
        "id": "vngwtUrt52M5",
        "outputId": "18bfe799-440b-4931-9e23-412c756fef62"
      },
      "source": [
        "plt.imshow(x_train[0], cmap = plt.cm.binary)"
      ],
      "execution_count": null,
      "outputs": [
        {
          "output_type": "execute_result",
          "data": {
            "text/plain": [
              "<matplotlib.image.AxesImage at 0x7f53fddbea50>"
            ]
          },
          "metadata": {
            "tags": []
          },
          "execution_count": 33
        },
        {
          "output_type": "display_data",
          "data": {
            "image/png": "[encoded data removed]",
            "text/plain": [
              "<Figure size 432x288 with 1 Axes>"
            ]
          },
          "metadata": {
            "tags": [],
            "needs_background": "light"
          }
        }
      ]
    },
    {
      "cell_type": "markdown",
      "metadata": {
        "id": "mcCHlcpz6EUr"
      },
      "source": [
        "# Data Preprocessing"
      ]
    },
    {
      "cell_type": "code",
      "metadata": {
        "colab": {
          "base_uri": "https://localhost:8080/"
        },
        "id": "ijttBneu6G2t",
        "outputId": "1a3d2028-6760-4eed-bdcf-fcc6bfa6bc56"
      },
      "source": [
        "print(\"Before reshaping\")\n",
        "print(f\"Training variabes's shape is : {x_train.shape}, test variables's shape is : {x_test.shape} \")\n",
        "x_train = tf.keras.utils.normalize(x_train, axis = 1) #Normalizing of the train data\n",
        "x_test = tf.keras.utils.normalize(x_test, axis = 1) #Normalizing of the test data\n",
        "x_train = x_train.reshape(60000, 28 * 28)\n",
        "x_test = x_test.reshape(10000, 28 * 28)\n",
        "print(\"\\nAfter reshaping\")\n",
        "print(f\"Training variabes's shape is : {x_train.shape}, test variables's shape is : {x_test.shape} \")"
      ],
      "execution_count": null,
      "outputs": [
        {
          "output_type": "stream",
          "text": [
            "Before reshaping\n",
            "Training variabes's shape is : (60000, 28, 28), test variables's shape is : (10000, 28, 28) \n",
            "\n",
            "After reshaping\n",
            "Training variabes's shape is : (60000, 784), test variables's shape is : (10000, 784) \n"
          ],
          "name": "stdout"
        }
      ]
    },
    {
      "cell_type": "markdown",
      "metadata": {
        "id": "eaxJylec8Qiw"
      },
      "source": [
        "# Set up the neural network"
      ]
    },
    {
      "cell_type": "code",
      "metadata": {
        "id": "Ud-Eq7Tj8RFT"
      },
      "source": [
        "model = tf.keras.Sequential()\n",
        "model.add(tf.keras.layers.Dense(512, activation= \"relu\", input_shape=(784,)))\n",
        "model.add(tf.keras.layers.Dropout(0.2))\n",
        "model.add(tf.keras.layers.Dense(512, activation='relu'))\n",
        "model.add(tf.keras.layers.Dropout(0.2))\n",
        "model.add(tf.keras.layers.Dense(10, activation='softmax'))"
      ],
      "execution_count": null,
      "outputs": []
    },
    {
      "cell_type": "code",
      "metadata": {
        "colab": {
          "base_uri": "https://localhost:8080/"
        },
        "id": "ZxbkLhDL8lHB",
        "outputId": "5e1a4b29-d977-4970-d3fe-5dff79736035"
      },
      "source": [
        "model.summary()"
      ],
      "execution_count": null,
      "outputs": [
        {
          "output_type": "stream",
          "text": [
            "Model: \"sequential_4\"\n",
            "_________________________________________________________________\n",
            "Layer (type)                 Output Shape              Param #   \n",
            "=================================================================\n",
            "dense_8 (Dense)              (None, 512)               401920    \n",
            "_________________________________________________________________\n",
            "dropout_4 (Dropout)          (None, 512)               0         \n",
            "_________________________________________________________________\n",
            "dense_9 (Dense)              (None, 512)               262656    \n",
            "_________________________________________________________________\n",
            "dropout_5 (Dropout)          (None, 512)               0         \n",
            "_________________________________________________________________\n",
            "dense_10 (Dense)             (None, 10)                5130      \n",
            "=================================================================\n",
            "Total params: 669,706\n",
            "Trainable params: 669,706\n",
            "Non-trainable params: 0\n",
            "_________________________________________________________________\n"
          ],
          "name": "stdout"
        }
      ]
    },
    {
      "cell_type": "code",
      "metadata": {
        "id": "VJBQNuUd823O"
      },
      "source": [
        "y_train = tf.keras.utils.to_categorical(y_train, 10)\n",
        "y_test = tf.keras.utils.to_categorical(y_test, 10)\n",
        "model.compile(loss='categorical_crossentropy',\n",
        "              optimizer=tf.keras.optimizers.RMSprop(),\n",
        "              metrics=['accuracy'])\n",
        "x_train = x_train.astype('float32')\n",
        "x_test = x_test.astype('float32')"
      ],
      "execution_count": null,
      "outputs": []
    },
    {
      "cell_type": "code",
      "metadata": {
        "id": "8MI22HMW8-VP",
        "colab": {
          "base_uri": "https://localhost:8080/"
        },
        "outputId": "6f7b5085-ad60-4976-8281-a97e0dc30883"
      },
      "source": [
        "fitted_model = model.fit(x_train, y_train, batch_size=128, epochs=20,  verbose=1, validation_data=(x_test, y_test))"
      ],
      "execution_count": null,
      "outputs": [
        {
          "output_type": "stream",
          "text": [
            "Epoch 1/20\n",
            "469/469 [==============================] - 12s 23ms/step - loss: 0.2707 - accuracy: 0.9170 - val_loss: 0.1274 - val_accuracy: 0.9602\n",
            "Epoch 2/20\n",
            "469/469 [==============================] - 10s 22ms/step - loss: 0.1130 - accuracy: 0.9657 - val_loss: 0.0952 - val_accuracy: 0.9721\n",
            "Epoch 3/20\n",
            "469/469 [==============================] - 10s 22ms/step - loss: 0.0809 - accuracy: 0.9757 - val_loss: 0.0918 - val_accuracy: 0.9746\n",
            "Epoch 4/20\n",
            "469/469 [==============================] - 10s 22ms/step - loss: 0.0607 - accuracy: 0.9809 - val_loss: 0.0976 - val_accuracy: 0.9750\n",
            "Epoch 5/20\n",
            "469/469 [==============================] - 10s 22ms/step - loss: 0.0518 - accuracy: 0.9840 - val_loss: 0.0910 - val_accuracy: 0.9782\n",
            "Epoch 6/20\n",
            "469/469 [==============================] - 10s 22ms/step - loss: 0.0419 - accuracy: 0.9872 - val_loss: 0.1015 - val_accuracy: 0.9774\n",
            "Epoch 7/20\n",
            "469/469 [==============================] - 10s 21ms/step - loss: 0.0365 - accuracy: 0.9886 - val_loss: 0.1001 - val_accuracy: 0.9760\n",
            "Epoch 8/20\n",
            "469/469 [==============================] - 10s 21ms/step - loss: 0.0313 - accuracy: 0.9901 - val_loss: 0.1069 - val_accuracy: 0.9775\n",
            "Epoch 9/20\n",
            "469/469 [==============================] - 10s 21ms/step - loss: 0.0294 - accuracy: 0.9908 - val_loss: 0.0971 - val_accuracy: 0.9795\n",
            "Epoch 10/20\n",
            "469/469 [==============================] - 10s 21ms/step - loss: 0.0249 - accuracy: 0.9925 - val_loss: 0.1097 - val_accuracy: 0.9792\n",
            "Epoch 11/20\n",
            "469/469 [==============================] - 10s 21ms/step - loss: 0.0222 - accuracy: 0.9934 - val_loss: 0.1029 - val_accuracy: 0.9822\n",
            "Epoch 12/20\n",
            "469/469 [==============================] - 10s 21ms/step - loss: 0.0196 - accuracy: 0.9938 - val_loss: 0.1145 - val_accuracy: 0.9798\n",
            "Epoch 13/20\n",
            "469/469 [==============================] - 10s 21ms/step - loss: 0.0185 - accuracy: 0.9943 - val_loss: 0.1114 - val_accuracy: 0.9805\n",
            "Epoch 14/20\n",
            "469/469 [==============================] - 10s 21ms/step - loss: 0.0154 - accuracy: 0.9949 - val_loss: 0.1203 - val_accuracy: 0.9812\n",
            "Epoch 15/20\n",
            "469/469 [==============================] - 10s 21ms/step - loss: 0.0151 - accuracy: 0.9954 - val_loss: 0.1211 - val_accuracy: 0.9818\n",
            "Epoch 16/20\n",
            "469/469 [==============================] - 10s 21ms/step - loss: 0.0158 - accuracy: 0.9951 - val_loss: 0.1365 - val_accuracy: 0.9812\n",
            "Epoch 17/20\n",
            "469/469 [==============================] - 10s 21ms/step - loss: 0.0134 - accuracy: 0.9961 - val_loss: 0.1488 - val_accuracy: 0.9801\n",
            "Epoch 18/20\n",
            "469/469 [==============================] - 10s 21ms/step - loss: 0.0138 - accuracy: 0.9959 - val_loss: 0.1410 - val_accuracy: 0.9806\n",
            "Epoch 19/20\n",
            "469/469 [==============================] - 10s 21ms/step - loss: 0.0118 - accuracy: 0.9963 - val_loss: 0.1406 - val_accuracy: 0.9823\n",
            "Epoch 20/20\n",
            "469/469 [==============================] - 10s 21ms/step - loss: 0.0132 - accuracy: 0.9960 - val_loss: 0.1482 - val_accuracy: 0.9825\n"
          ],
          "name": "stdout"
        }
      ]
    },
    {
      "cell_type": "code",
      "metadata": {
        "id": "bSTVcEn09E-m",
        "colab": {
          "base_uri": "https://localhost:8080/"
        },
        "outputId": "6dfadc12-32b1-4dfc-9b75-275b1b345593"
      },
      "source": [
        "model.save('epic_num_reader.model')\n",
        "new_model = tf.keras.models.load_model('epic_num_reader.model')\n",
        "predictions = new_model.predict(x_test)\n",
        "print(predictions)\n"
      ],
      "execution_count": null,
      "outputs": [
        {
          "output_type": "stream",
          "text": [
            "INFO:tensorflow:Assets written to: epic_num_reader.model/assets\n",
            "[[1.1739438e-32 1.0094270e-25 6.3723389e-23 ... 1.0000000e+00\n",
            "  3.6486903e-31 1.4168974e-21]\n",
            " [0.0000000e+00 5.0753141e-25 1.0000000e+00 ... 3.1599885e-33\n",
            "  0.0000000e+00 0.0000000e+00]\n",
            " [6.6889354e-24 1.0000000e+00 6.8486349e-15 ... 5.1656075e-12\n",
            "  2.2798998e-14 2.6810775e-20]\n",
            " ...\n",
            " [1.5241829e-24 4.1624546e-16 4.4706491e-19 ... 5.3816777e-12\n",
            "  4.9436195e-17 2.6672215e-11]\n",
            " [8.9559827e-30 2.0913695e-31 6.3619725e-29 ... 1.4384382e-26\n",
            "  1.8042088e-15 5.7035009e-32]\n",
            " [3.3409570e-29 4.8960361e-35 1.4147891e-31 ... 1.6971501e-36\n",
            "  3.7572031e-27 1.9578989e-36]]\n"
          ],
          "name": "stdout"
        }
      ]
    },
    {
      "cell_type": "code",
      "metadata": {
        "colab": {
          "base_uri": "https://localhost:8080/",
          "height": 265
        },
        "id": "fMdglRJrZX9J",
        "outputId": "395268c0-e63c-4dfa-fe32-0abd784337ab"
      },
      "source": [
        "x_test = x_test.reshape(10000, 28, 28)\n",
        "plt.imshow(x_test[6909],cmap=plt.cm.binary)\n",
        "plt.show()"
      ],
      "execution_count": null,
      "outputs": [
        {
          "output_type": "display_data",
          "data": {
            "image/png": "[encoded data removed]",
            "text/plain": [
              "<Figure size 432x288 with 1 Axes>"
            ]
          },
          "metadata": {
            "tags": [],
            "needs_background": "light"
          }
        }
      ]
    },
    {
      "cell_type": "code",
      "metadata": {
        "colab": {
          "base_uri": "https://localhost:8080/"
        },
        "id": "Jadl73_PXSCX",
        "outputId": "f10c76c7-2682-4dc6-9fb6-0ba6432c24a0"
      },
      "source": [
        "import numpy as np\n",
        "print(np.argmax(predictions[6909]))"
      ],
      "execution_count": null,
      "outputs": [
        {
          "output_type": "stream",
          "text": [
            "5\n",
            "[1.1739438e-32 1.0094270e-25 6.3723389e-23 6.8286438e-25 1.5153981e-26\n",
            " 6.2241967e-32 0.0000000e+00 1.0000000e+00 3.6486903e-31 1.4168974e-21]\n"
          ],
          "name": "stdout"
        }
      ]
    },
    {
      "cell_type": "code",
      "metadata": {
        "id": "OdxRGvgYZauu"
      },
      "source": [
        ""
      ],
      "execution_count": null,
      "outputs": []
    }
  ]
}